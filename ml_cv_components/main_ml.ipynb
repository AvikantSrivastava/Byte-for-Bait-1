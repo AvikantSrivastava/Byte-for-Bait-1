{
 "cells": [
  {
   "cell_type": "code",
   "execution_count": 12,
   "metadata": {},
   "outputs": [],
   "source": [
    "#importing various libraries\n",
    "import pandas as pd\n",
    "import numpy as np\n",
    "import matplotlib.pyplot as plt\n",
    "import seaborn as sns\n",
    "from sklearn.preprocessing import LabelEncoder\n",
    "from sklearn.model_selection import train_test_split\n",
    "from sklearn.preprocessing import StandardScaler\n",
    "from imblearn.over_sampling import SMOTE\n",
    "from sklearn.ensemble import GradientBoostingClassifier\n",
    "from sklearn.metrics import classification_report, confusion_matrix, roc_curve, auc, f1_score\n",
    "import pickle\n",
    "import keras\n",
    "from keras.models import Sequential\n",
    "from keras.layers import Dense"
   ]
  },
  {
   "cell_type": "code",
   "execution_count": 3,
   "metadata": {},
   "outputs": [],
   "source": [
    "#function to preprocess the data\n",
    "def preprocessing(file_name, complete_data = False) :\n",
    "    \n",
    "    #reading the data from the provided csv file\n",
    "    dataset=pd.read_csv(file_name,parse_dates={'datetime': ['acq_date', 'acq_time']})\n",
    "    dataset=dataset.drop(columns=['version'])\n",
    "    \n",
    "    #converting categorical data into numeric value using labelencoder\n",
    "    col_names=['satellite','daynight']\n",
    "    le=LabelEncoder()\n",
    "    for name in col_names:\n",
    "        dataset[name]=le.fit_transform(dataset[name])\n",
    "    dataset['fire'] = (dataset.confidence>65)*1\n",
    "    \n",
    "    #if the data if for training, sampling the data, otherwire simply making a copy\n",
    "    if complete_data == True :\n",
    "        sampdata=dataset.sample(n=30000)\n",
    "    else :\n",
    "        sampdata = dataset.copy(deep = True)\n",
    "    \n",
    "    #combinig corellated features\n",
    "    sampdata['scan_track'] = sampdata[['scan', 'track']].mean(axis=1)\n",
    "    \n",
    "    #storing coordinates saperately\n",
    "    coordinates = sampdata.filter(['latitude', 'longitude'])\n",
    "    \n",
    "    #dropping the columns which are not required\n",
    "    sampdata = sampdata.drop(columns=['latitude','longitude','confidence','scan', 'track'])\n",
    "    X=sampdata.iloc[:, [1,2,3,4,5,7]].values\n",
    "    y=sampdata.iloc[:, -2].values\n",
    "    \n",
    "    return X, y, coordinates"
   ]
  },
  {
   "cell_type": "code",
   "execution_count": 4,
   "metadata": {},
   "outputs": [],
   "source": [
    "#nadling the \n",
    "def train_data(file_name):\n",
    "    \n",
    "    #receiving processed data from the respective function\n",
    "    X, y, coordinates = preprocessing(file_name, complete_data = True)\n",
    "    \n",
    "    #splitting the data into training set and test set\n",
    "    X_train, X_test, y_train, y_test = train_test_split(X, y, test_size = 0.2, random_state = 0)\n",
    "    \n",
    "    #scaling the data using standard scaler\n",
    "    sc = StandardScaler()\n",
    "    X_train = sc.fit_transform(X_train)\n",
    "    X_test = sc.fit_transform(X_test)\n",
    "    \n",
    "    #using smote to handle unbalenced data\n",
    "    sm = SMOTE(random_state=2)\n",
    "    X_train_res, y_train_res = sm.fit_sample(X_train, y_train.ravel())\n",
    "    \n",
    "    return X_train_res, y_train_res, X_test, y_test, coordinates"
   ]
  },
  {
   "cell_type": "code",
   "execution_count": 5,
   "metadata": {},
   "outputs": [],
   "source": [
    "def model_train(file_name):\n",
    "    \n",
    "    #recieiving trainng and validation data\n",
    "    X_train_res, y_train_res, X_test, y_test, coordinates = train_data(file_name)\n",
    "    \n",
    "    #creating the model\n",
    "    gb = GradientBoostingClassifier(n_estimators=20, learning_rate = 0.15, max_features=4, max_depth = 9, random_state = 2, subsample = 0.7)\n",
    "    gb.fit(X_train_res, y_train_res)\n",
    "    y_train_pred = gb.predict(X_train_res)\n",
    "    y_test_pred = gb.predict(X_test)\n",
    "    \n",
    "    #printing the results\n",
    "    print(\"Learning rate: \", 0.15)\n",
    "    print(\"Accuracy score (training): {0:.3f}\".format(gb.score(X_train_res, y_train_res)))\n",
    "    print(\"Accuracy score (validation): {0:.3f}\".format(gb.score(X_test, y_test)))\n",
    "    print(\"F1 score (training): {0:.3f}\".format(f1_score(y_train_res, y_train_pred)))\n",
    "    print(\"F1 score (validation): {0:.3f}\".format(f1_score(y_test, y_test_pred)))\n",
    "    \n",
    "    #saving the model and coordintes\n",
    "    filename = 'model_output/finalized_model.sav'\n",
    "    pickle.dump(gb, open(filename, 'wb'))\n",
    "    coordinates.to_csv(r'output\\coordinates.csv')"
   ]
  },
  {
   "cell_type": "code",
   "execution_count": 10,
   "metadata": {},
   "outputs": [],
   "source": [
    "def live_data(file_name):\n",
    "    \n",
    "    #receiving processed data from the respective function\n",
    "    X, y, coordinates = preprocessing(file_name, complete_data = False)\n",
    "    \n",
    "    #scaling the data using standard scaler\n",
    "    sc = StandardScaler()\n",
    "    X = sc.fit_transform(X)\n",
    "    \n",
    "    #loading our trained model\n",
    "    filename = 'finalized_model.sav'\n",
    "    model = pickle.load(open(filename, 'rb'))\n",
    "    \n",
    "    #predicting fire/no-fire (1/0)\n",
    "    y_pred = model.predict(X)\n",
    "    \n",
    "    #accuracy and F1 score\n",
    "    print(\"Accuracy score : {0:.3f}\".format(model.score(X, y)))\n",
    "    print(\"F1 score : {0:.3f}\".format(f1_score(y, y_pred)))\n",
    "    \n",
    "    #convering the predicted column to dataframe and storing as csv file\n",
    "    df = pd.DataFrame({'Fire': y_pred})\n",
    "    df.to_csv(r'output\\predicted.csv')\n",
    "    coordinates.to_csv(r'output\\coordinates.csv')"
   ]
  },
  {
   "cell_type": "code",
   "execution_count": 11,
   "metadata": {},
   "outputs": [
    {
     "name": "stdout",
     "output_type": "stream",
     "text": [
      "Accuracy score : 0.814\n",
      "F1 score : 0.827\n"
     ]
    }
   ],
   "source": [
    "live_data('MODIS.csv')"
   ]
  },
  {
   "cell_type": "code",
   "execution_count": 17,
   "metadata": {},
   "outputs": [],
   "source": [
    "# def model_trainnn(file_name):\n",
    "    \n",
    "#     #recieiving trainng and validation data\n",
    "#     X_train_res, y_train_res, X_test, y_test, coordinates = train_data(file_name)\n",
    "    \n",
    "#     #creating the model\n",
    "#     classifier = Sequential()\n",
    "\n",
    "#     #adding first hidden layer to ANN\n",
    "#     classifier.add(Dense(units = 4, kernel_initializer = 'uniform', activation = 'relu', input_dim = 6))\n",
    "#     # second hidden layer\n",
    "#     classifier.add(Dense(units = 4, kernel_initializer = 'uniform', activation = 'relu'))\n",
    "#     #output layer\n",
    "#     classifier.add(Dense(units = 1, kernel_initializer = 'uniform', activation = 'sigmoid'))\n",
    "\n",
    "#     #compiling ANN\n",
    "#     classifier.compile(optimizer = 'adam', loss = 'binary_crossentropy', metrics = ['accuracy'])\n",
    "\n",
    "#     #fitting the ANN model\n",
    "#     classifier.fit(X_train_res, y_train_res, batch_size = 10, epochs = 200)\n",
    "\n",
    "#     #predicting the test set results (probabilities)\n",
    "#     y_pred = classifier.predict(X_test)\n",
    "#     y_pred_tf = (y_pred > 0.5)*1\n",
    "    \n",
    "#     ty_pred = classifier.predict(X_train_res)\n",
    "#     ty_pred_tf = (y_pred > 0.5)*1\n",
    "#     #printing the results\n",
    "# #     print(\"Learning rate: \", 0.15)\n",
    "# #     print(\"Accuracy score (training): {0:.3f}\".format(gb.score(X_train_res, y_train_res)))\n",
    "# #     print(\"Accuracy score (validation): {0:.3f}\".format(gb.score(X_test, y_test)))\n",
    "#     print(\"F1 score (training): {0:.3f}\".format(f1_score(y_train_res, ty_pred_tf)))\n",
    "#     print(\"F1 score (validation): {0:.3f}\".format(f1_score(y_test, y_pred_tf)))\n",
    "    \n",
    "#     #saving the model and coordintes\n",
    "# #     filename = 'model_output/finalized_model.sav'\n",
    "# #     pickle.dump(gb, open(filename, 'wb'))\n",
    "# #     coordinates.to_csv(r'output\\coordinates.csv')"
   ]
  },
  {
   "cell_type": "code",
   "execution_count": null,
   "metadata": {},
   "outputs": [],
   "source": []
  }
 ],
 "metadata": {
  "kernelspec": {
   "display_name": "Python 3",
   "language": "python",
   "name": "python3"
  },
  "language_info": {
   "codemirror_mode": {
    "name": "ipython",
    "version": 3
   },
   "file_extension": ".py",
   "mimetype": "text/x-python",
   "name": "python",
   "nbconvert_exporter": "python",
   "pygments_lexer": "ipython3",
   "version": "3.6.4"
  }
 },
 "nbformat": 4,
 "nbformat_minor": 2
}
