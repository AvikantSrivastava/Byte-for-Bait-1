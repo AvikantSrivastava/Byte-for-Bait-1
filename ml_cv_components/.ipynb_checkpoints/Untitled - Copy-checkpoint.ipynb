{
 "cells": [
  {
   "cell_type": "code",
   "execution_count": 231,
   "metadata": {},
   "outputs": [],
   "source": [
    "import pandas as pd\n",
    "import numpy as np\n",
    "import matplotlib.pyplot as plt\n",
    "import seaborn as sns"
   ]
  },
  {
   "cell_type": "code",
   "execution_count": 232,
   "metadata": {},
   "outputs": [
    {
     "name": "stdout",
     "output_type": "stream",
     "text": [
      "             datetime  latitude  longitude  brightness  scan  track satellite  \\\n",
      "0 2018-10-13 00:25:00    -7.018    -35.258       306.4   2.4    1.5         T   \n",
      "1 2018-10-13 00:25:00    -7.019    -35.241       302.5   2.4    1.5         T   \n",
      "2 2018-10-13 00:25:00    -7.022    -35.262       302.8   2.4    1.5         T   \n",
      "3 2018-10-13 01:05:00    51.421    143.380       305.9   1.8    1.3         T   \n",
      "4 2018-10-13 01:05:00    40.532    141.497       326.5   1.6    1.2         T   \n",
      "\n",
      "   confidence version  bright_t31   frp daynight  \n",
      "0          68  6.0NRT       290.4  25.6        N  \n",
      "1          42  6.0NRT       290.1  15.7        N  \n",
      "2          47  6.0NRT       290.3  16.5        N  \n",
      "3          62  6.0NRT       285.1  19.8        D  \n",
      "4          75  6.0NRT       285.4  45.8        D  \n",
      "                 datetime  latitude  longitude  brightness  scan  track  \\\n",
      "71831 2018-10-20 07:40:00    20.961     85.185       326.7   1.0    1.0   \n",
      "71832 2018-10-20 07:40:00    20.959     85.175       332.5   1.0    1.0   \n",
      "71833 2018-10-20 06:15:00    57.057    107.648       301.2   1.9    1.4   \n",
      "71834 2018-10-20 06:15:00    58.416    107.375       307.8   2.0    1.4   \n",
      "71835 2018-10-20 06:15:00    59.112    102.909       316.6   1.4    1.2   \n",
      "\n",
      "      satellite  confidence version  bright_t31   frp daynight  \n",
      "71831         A          79  6.0NRT       308.1  15.3        D  \n",
      "71832         A          84  6.0NRT       309.1  22.2        D  \n",
      "71833         A          45  6.0NRT       271.2  23.3        D  \n",
      "71834         A          66  6.0NRT       267.1  35.0        D  \n",
      "71835         A          66  6.0NRT       269.3  29.3        D  \n"
     ]
    }
   ],
   "source": [
    "dataset=pd.read_csv('MODIS.csv',parse_dates={'datetime': ['acq_date', 'acq_time']})\n",
    "print(dataset.head(5))\n",
    "print(dataset.tail(5))"
   ]
  },
  {
   "cell_type": "code",
   "execution_count": 233,
   "metadata": {},
   "outputs": [
    {
     "name": "stdout",
     "output_type": "stream",
     "text": [
      "<class 'pandas.core.frame.DataFrame'>\n",
      "RangeIndex: 71836 entries, 0 to 71835\n",
      "Data columns (total 11 columns):\n",
      "datetime      71836 non-null datetime64[ns]\n",
      "latitude      71836 non-null float64\n",
      "longitude     71836 non-null float64\n",
      "brightness    71836 non-null float64\n",
      "scan          71836 non-null float64\n",
      "track         71836 non-null float64\n",
      "satellite     71836 non-null object\n",
      "confidence    71836 non-null int64\n",
      "bright_t31    71836 non-null float64\n",
      "frp           71836 non-null float64\n",
      "daynight      71836 non-null object\n",
      "dtypes: datetime64[ns](1), float64(7), int64(1), object(2)\n",
      "memory usage: 6.0+ MB\n",
      "None\n"
     ]
    }
   ],
   "source": [
    "dataset=dataset.drop(columns=['version'])\n",
    "print(dataset.info())"
   ]
  },
  {
   "cell_type": "code",
   "execution_count": 234,
   "metadata": {},
   "outputs": [
    {
     "data": {
      "text/plain": [
       "datetime      datetime64[ns]\n",
       "latitude             float64\n",
       "longitude            float64\n",
       "brightness           float64\n",
       "scan                 float64\n",
       "track                float64\n",
       "satellite              int32\n",
       "confidence             int64\n",
       "bright_t31           float64\n",
       "frp                  float64\n",
       "daynight               int32\n",
       "dtype: object"
      ]
     },
     "execution_count": 234,
     "metadata": {},
     "output_type": "execute_result"
    }
   ],
   "source": [
    "from sklearn.preprocessing import LabelEncoder\n",
    "# will create a list of column names with non numeric data\n",
    "col_names=['satellite','daynight']\n",
    "le=LabelEncoder()\n",
    "for name in col_names:\n",
    "    dataset[name]=le.fit_transform(dataset[name])\n",
    "dataset.dtypes"
   ]
  },
  {
   "cell_type": "code",
   "execution_count": 235,
   "metadata": {
    "scrolled": true
   },
   "outputs": [
    {
     "data": {
      "text/html": [
       "<div>\n",
       "<style scoped>\n",
       "    .dataframe tbody tr th:only-of-type {\n",
       "        vertical-align: middle;\n",
       "    }\n",
       "\n",
       "    .dataframe tbody tr th {\n",
       "        vertical-align: top;\n",
       "    }\n",
       "\n",
       "    .dataframe thead th {\n",
       "        text-align: right;\n",
       "    }\n",
       "</style>\n",
       "<table border=\"1\" class=\"dataframe\">\n",
       "  <thead>\n",
       "    <tr style=\"text-align: right;\">\n",
       "      <th></th>\n",
       "      <th>latitude</th>\n",
       "      <th>longitude</th>\n",
       "      <th>brightness</th>\n",
       "      <th>scan</th>\n",
       "      <th>track</th>\n",
       "      <th>satellite</th>\n",
       "      <th>confidence</th>\n",
       "      <th>bright_t31</th>\n",
       "      <th>frp</th>\n",
       "      <th>daynight</th>\n",
       "    </tr>\n",
       "  </thead>\n",
       "  <tbody>\n",
       "    <tr>\n",
       "      <th>count</th>\n",
       "      <td>71836.000000</td>\n",
       "      <td>71836.000000</td>\n",
       "      <td>71836.000000</td>\n",
       "      <td>71836.000000</td>\n",
       "      <td>71836.000000</td>\n",
       "      <td>71836.000000</td>\n",
       "      <td>71836.000000</td>\n",
       "      <td>71836.000000</td>\n",
       "      <td>71836.000000</td>\n",
       "      <td>71836.000000</td>\n",
       "    </tr>\n",
       "    <tr>\n",
       "      <th>mean</th>\n",
       "      <td>0.839738</td>\n",
       "      <td>40.056988</td>\n",
       "      <td>328.436228</td>\n",
       "      <td>1.628820</td>\n",
       "      <td>1.216837</td>\n",
       "      <td>0.402625</td>\n",
       "      <td>68.489852</td>\n",
       "      <td>300.982257</td>\n",
       "      <td>53.281994</td>\n",
       "      <td>0.156328</td>\n",
       "    </tr>\n",
       "    <tr>\n",
       "      <th>std</th>\n",
       "      <td>27.031012</td>\n",
       "      <td>70.722122</td>\n",
       "      <td>20.169751</td>\n",
       "      <td>0.835904</td>\n",
       "      <td>0.254476</td>\n",
       "      <td>0.490430</td>\n",
       "      <td>21.319353</td>\n",
       "      <td>11.087346</td>\n",
       "      <td>120.216231</td>\n",
       "      <td>0.363169</td>\n",
       "    </tr>\n",
       "    <tr>\n",
       "      <th>min</th>\n",
       "      <td>-52.878000</td>\n",
       "      <td>-176.614000</td>\n",
       "      <td>300.000000</td>\n",
       "      <td>1.000000</td>\n",
       "      <td>1.000000</td>\n",
       "      <td>0.000000</td>\n",
       "      <td>0.000000</td>\n",
       "      <td>264.900000</td>\n",
       "      <td>0.000000</td>\n",
       "      <td>0.000000</td>\n",
       "    </tr>\n",
       "    <tr>\n",
       "      <th>25%</th>\n",
       "      <td>-18.346250</td>\n",
       "      <td>14.820500</td>\n",
       "      <td>314.100000</td>\n",
       "      <td>1.000000</td>\n",
       "      <td>1.000000</td>\n",
       "      <td>0.000000</td>\n",
       "      <td>55.000000</td>\n",
       "      <td>293.400000</td>\n",
       "      <td>11.900000</td>\n",
       "      <td>0.000000</td>\n",
       "    </tr>\n",
       "    <tr>\n",
       "      <th>50%</th>\n",
       "      <td>-11.656500</td>\n",
       "      <td>35.248500</td>\n",
       "      <td>326.100000</td>\n",
       "      <td>1.300000</td>\n",
       "      <td>1.100000</td>\n",
       "      <td>0.000000</td>\n",
       "      <td>70.000000</td>\n",
       "      <td>299.700000</td>\n",
       "      <td>22.600000</td>\n",
       "      <td>0.000000</td>\n",
       "    </tr>\n",
       "    <tr>\n",
       "      <th>75%</th>\n",
       "      <td>19.565250</td>\n",
       "      <td>121.791500</td>\n",
       "      <td>337.100000</td>\n",
       "      <td>1.900000</td>\n",
       "      <td>1.300000</td>\n",
       "      <td>1.000000</td>\n",
       "      <td>84.000000</td>\n",
       "      <td>309.200000</td>\n",
       "      <td>48.600000</td>\n",
       "      <td>0.000000</td>\n",
       "    </tr>\n",
       "    <tr>\n",
       "      <th>max</th>\n",
       "      <td>67.807000</td>\n",
       "      <td>177.621000</td>\n",
       "      <td>503.200000</td>\n",
       "      <td>4.800000</td>\n",
       "      <td>2.000000</td>\n",
       "      <td>1.000000</td>\n",
       "      <td>100.000000</td>\n",
       "      <td>400.100000</td>\n",
       "      <td>3567.700000</td>\n",
       "      <td>1.000000</td>\n",
       "    </tr>\n",
       "  </tbody>\n",
       "</table>\n",
       "</div>"
      ],
      "text/plain": [
       "           latitude     longitude    brightness          scan         track  \\\n",
       "count  71836.000000  71836.000000  71836.000000  71836.000000  71836.000000   \n",
       "mean       0.839738     40.056988    328.436228      1.628820      1.216837   \n",
       "std       27.031012     70.722122     20.169751      0.835904      0.254476   \n",
       "min      -52.878000   -176.614000    300.000000      1.000000      1.000000   \n",
       "25%      -18.346250     14.820500    314.100000      1.000000      1.000000   \n",
       "50%      -11.656500     35.248500    326.100000      1.300000      1.100000   \n",
       "75%       19.565250    121.791500    337.100000      1.900000      1.300000   \n",
       "max       67.807000    177.621000    503.200000      4.800000      2.000000   \n",
       "\n",
       "          satellite    confidence    bright_t31           frp      daynight  \n",
       "count  71836.000000  71836.000000  71836.000000  71836.000000  71836.000000  \n",
       "mean       0.402625     68.489852    300.982257     53.281994      0.156328  \n",
       "std        0.490430     21.319353     11.087346    120.216231      0.363169  \n",
       "min        0.000000      0.000000    264.900000      0.000000      0.000000  \n",
       "25%        0.000000     55.000000    293.400000     11.900000      0.000000  \n",
       "50%        0.000000     70.000000    299.700000     22.600000      0.000000  \n",
       "75%        1.000000     84.000000    309.200000     48.600000      0.000000  \n",
       "max        1.000000    100.000000    400.100000   3567.700000      1.000000  "
      ]
     },
     "execution_count": 235,
     "metadata": {},
     "output_type": "execute_result"
    }
   ],
   "source": [
    "dataset.describe()"
   ]
  },
  {
   "cell_type": "code",
   "execution_count": 236,
   "metadata": {},
   "outputs": [
    {
     "name": "stdout",
     "output_type": "stream",
     "text": [
      "col_0  count\n",
      "fire        \n",
      "0      29939\n",
      "1      41897\n"
     ]
    },
    {
     "data": {
      "text/plain": [
       "Text(0,0.5,'Frequency')"
      ]
     },
     "execution_count": 236,
     "metadata": {},
     "output_type": "execute_result"
    },
    {
     "data": {
      "image/png": "[encoded data removed]",
      "text/plain": [
       "<matplotlib.figure.Figure at 0x24fbad337b8>"
      ]
     },
     "metadata": {},
     "output_type": "display_data"
    }
   ],
   "source": [
    "dataset['fire'] = (dataset.confidence>65)*1\n",
    "print(pd.crosstab(index=dataset.fire,columns='count'))\n",
    "pd.value_counts(dataset.fire).plot.bar()\n",
    "plt.title('Confidence count histogram')\n",
    "plt.xlabel('1/0 fire/no_fire')\n",
    "plt.ylabel('Frequency')"
   ]
  },
  {
   "cell_type": "code",
   "execution_count": 237,
   "metadata": {},
   "outputs": [
    {
     "data": {
      "text/plain": [
       "<matplotlib.axes._subplots.AxesSubplot at 0x24fb951ba20>"
      ]
     },
     "execution_count": 237,
     "metadata": {},
     "output_type": "execute_result"
    },
    {
     "data": {
      "image/png": "[encoded data removed]",
      "text/plain": [
       "<matplotlib.figure.Figure at 0x24fb951b160>"
      ]
     },
     "metadata": {},
     "output_type": "display_data"
    }
   ],
   "source": [
    "plt.figure(figsize=(12,8))\n",
    "sns.heatmap(dataset.corr(), annot=True)"
   ]
  },
  {
   "cell_type": "code",
   "execution_count": 238,
   "metadata": {},
   "outputs": [
    {
     "data": {
      "text/plain": [
       "<matplotlib.axes._subplots.AxesSubplot at 0x24fbad912b0>"
      ]
     },
     "execution_count": 238,
     "metadata": {},
     "output_type": "execute_result"
    },
    {
     "data": {
      "image/png": "[encoded data removed]",
      "text/plain": [
       "<matplotlib.figure.Figure at 0x24fbae60ef0>"
      ]
     },
     "metadata": {},
     "output_type": "display_data"
    }
   ],
   "source": [
    "plt.figure(figsize=(10,6))\n",
    "sns.regplot(x=dataset.confidence, y=dataset.frp, fit_reg=False)"
   ]
  },
  {
   "cell_type": "code",
   "execution_count": 239,
   "metadata": {},
   "outputs": [
    {
     "data": {
      "text/html": [
       "<div>\n",
       "<style scoped>\n",
       "    .dataframe tbody tr th:only-of-type {\n",
       "        vertical-align: middle;\n",
       "    }\n",
       "\n",
       "    .dataframe tbody tr th {\n",
       "        vertical-align: top;\n",
       "    }\n",
       "\n",
       "    .dataframe thead th {\n",
       "        text-align: right;\n",
       "    }\n",
       "</style>\n",
       "<table border=\"1\" class=\"dataframe\">\n",
       "  <thead>\n",
       "    <tr style=\"text-align: right;\">\n",
       "      <th></th>\n",
       "      <th>latitude</th>\n",
       "      <th>longitude</th>\n",
       "      <th>brightness</th>\n",
       "      <th>scan</th>\n",
       "      <th>track</th>\n",
       "      <th>satellite</th>\n",
       "      <th>confidence</th>\n",
       "      <th>bright_t31</th>\n",
       "      <th>frp</th>\n",
       "      <th>daynight</th>\n",
       "      <th>fire</th>\n",
       "    </tr>\n",
       "  </thead>\n",
       "  <tbody>\n",
       "    <tr>\n",
       "      <th>count</th>\n",
       "      <td>71836.000000</td>\n",
       "      <td>71836.000000</td>\n",
       "      <td>71836.000000</td>\n",
       "      <td>71836.000000</td>\n",
       "      <td>71836.000000</td>\n",
       "      <td>71836.000000</td>\n",
       "      <td>71836.000000</td>\n",
       "      <td>71836.000000</td>\n",
       "      <td>71836.000000</td>\n",
       "      <td>71836.000000</td>\n",
       "      <td>71836.000000</td>\n",
       "    </tr>\n",
       "    <tr>\n",
       "      <th>mean</th>\n",
       "      <td>0.839738</td>\n",
       "      <td>40.056988</td>\n",
       "      <td>328.436228</td>\n",
       "      <td>1.628820</td>\n",
       "      <td>1.216837</td>\n",
       "      <td>0.402625</td>\n",
       "      <td>68.489852</td>\n",
       "      <td>300.982257</td>\n",
       "      <td>53.281994</td>\n",
       "      <td>0.156328</td>\n",
       "      <td>0.583231</td>\n",
       "    </tr>\n",
       "    <tr>\n",
       "      <th>std</th>\n",
       "      <td>27.031012</td>\n",
       "      <td>70.722122</td>\n",
       "      <td>20.169751</td>\n",
       "      <td>0.835904</td>\n",
       "      <td>0.254476</td>\n",
       "      <td>0.490430</td>\n",
       "      <td>21.319353</td>\n",
       "      <td>11.087346</td>\n",
       "      <td>120.216231</td>\n",
       "      <td>0.363169</td>\n",
       "      <td>0.493027</td>\n",
       "    </tr>\n",
       "    <tr>\n",
       "      <th>min</th>\n",
       "      <td>-52.878000</td>\n",
       "      <td>-176.614000</td>\n",
       "      <td>300.000000</td>\n",
       "      <td>1.000000</td>\n",
       "      <td>1.000000</td>\n",
       "      <td>0.000000</td>\n",
       "      <td>0.000000</td>\n",
       "      <td>264.900000</td>\n",
       "      <td>0.000000</td>\n",
       "      <td>0.000000</td>\n",
       "      <td>0.000000</td>\n",
       "    </tr>\n",
       "    <tr>\n",
       "      <th>25%</th>\n",
       "      <td>-18.346250</td>\n",
       "      <td>14.820500</td>\n",
       "      <td>314.100000</td>\n",
       "      <td>1.000000</td>\n",
       "      <td>1.000000</td>\n",
       "      <td>0.000000</td>\n",
       "      <td>55.000000</td>\n",
       "      <td>293.400000</td>\n",
       "      <td>11.900000</td>\n",
       "      <td>0.000000</td>\n",
       "      <td>0.000000</td>\n",
       "    </tr>\n",
       "    <tr>\n",
       "      <th>50%</th>\n",
       "      <td>-11.656500</td>\n",
       "      <td>35.248500</td>\n",
       "      <td>326.100000</td>\n",
       "      <td>1.300000</td>\n",
       "      <td>1.100000</td>\n",
       "      <td>0.000000</td>\n",
       "      <td>70.000000</td>\n",
       "      <td>299.700000</td>\n",
       "      <td>22.600000</td>\n",
       "      <td>0.000000</td>\n",
       "      <td>1.000000</td>\n",
       "    </tr>\n",
       "    <tr>\n",
       "      <th>75%</th>\n",
       "      <td>19.565250</td>\n",
       "      <td>121.791500</td>\n",
       "      <td>337.100000</td>\n",
       "      <td>1.900000</td>\n",
       "      <td>1.300000</td>\n",
       "      <td>1.000000</td>\n",
       "      <td>84.000000</td>\n",
       "      <td>309.200000</td>\n",
       "      <td>48.600000</td>\n",
       "      <td>0.000000</td>\n",
       "      <td>1.000000</td>\n",
       "    </tr>\n",
       "    <tr>\n",
       "      <th>max</th>\n",
       "      <td>67.807000</td>\n",
       "      <td>177.621000</td>\n",
       "      <td>503.200000</td>\n",
       "      <td>4.800000</td>\n",
       "      <td>2.000000</td>\n",
       "      <td>1.000000</td>\n",
       "      <td>100.000000</td>\n",
       "      <td>400.100000</td>\n",
       "      <td>3567.700000</td>\n",
       "      <td>1.000000</td>\n",
       "      <td>1.000000</td>\n",
       "    </tr>\n",
       "  </tbody>\n",
       "</table>\n",
       "</div>"
      ],
      "text/plain": [
       "           latitude     longitude    brightness          scan         track  \\\n",
       "count  71836.000000  71836.000000  71836.000000  71836.000000  71836.000000   \n",
       "mean       0.839738     40.056988    328.436228      1.628820      1.216837   \n",
       "std       27.031012     70.722122     20.169751      0.835904      0.254476   \n",
       "min      -52.878000   -176.614000    300.000000      1.000000      1.000000   \n",
       "25%      -18.346250     14.820500    314.100000      1.000000      1.000000   \n",
       "50%      -11.656500     35.248500    326.100000      1.300000      1.100000   \n",
       "75%       19.565250    121.791500    337.100000      1.900000      1.300000   \n",
       "max       67.807000    177.621000    503.200000      4.800000      2.000000   \n",
       "\n",
       "          satellite    confidence    bright_t31           frp      daynight  \\\n",
       "count  71836.000000  71836.000000  71836.000000  71836.000000  71836.000000   \n",
       "mean       0.402625     68.489852    300.982257     53.281994      0.156328   \n",
       "std        0.490430     21.319353     11.087346    120.216231      0.363169   \n",
       "min        0.000000      0.000000    264.900000      0.000000      0.000000   \n",
       "25%        0.000000     55.000000    293.400000     11.900000      0.000000   \n",
       "50%        0.000000     70.000000    299.700000     22.600000      0.000000   \n",
       "75%        1.000000     84.000000    309.200000     48.600000      0.000000   \n",
       "max        1.000000    100.000000    400.100000   3567.700000      1.000000   \n",
       "\n",
       "               fire  \n",
       "count  71836.000000  \n",
       "mean       0.583231  \n",
       "std        0.493027  \n",
       "min        0.000000  \n",
       "25%        0.000000  \n",
       "50%        1.000000  \n",
       "75%        1.000000  \n",
       "max        1.000000  "
      ]
     },
     "execution_count": 239,
     "metadata": {},
     "output_type": "execute_result"
    }
   ],
   "source": [
    "dataset.describe()"
   ]
  },
  {
   "cell_type": "code",
   "execution_count": 240,
   "metadata": {},
   "outputs": [],
   "source": [
    "sampdata=dataset.sample(n=30000)"
   ]
  },
  {
   "cell_type": "code",
   "execution_count": 241,
   "metadata": {},
   "outputs": [
    {
     "data": {
      "text/html": [
       "<div>\n",
       "<style scoped>\n",
       "    .dataframe tbody tr th:only-of-type {\n",
       "        vertical-align: middle;\n",
       "    }\n",
       "\n",
       "    .dataframe tbody tr th {\n",
       "        vertical-align: top;\n",
       "    }\n",
       "\n",
       "    .dataframe thead th {\n",
       "        text-align: right;\n",
       "    }\n",
       "</style>\n",
       "<table border=\"1\" class=\"dataframe\">\n",
       "  <thead>\n",
       "    <tr style=\"text-align: right;\">\n",
       "      <th></th>\n",
       "      <th>brightness</th>\n",
       "      <th>satellite</th>\n",
       "      <th>bright_t31</th>\n",
       "      <th>frp</th>\n",
       "      <th>daynight</th>\n",
       "      <th>fire</th>\n",
       "      <th>scan_track</th>\n",
       "    </tr>\n",
       "  </thead>\n",
       "  <tbody>\n",
       "    <tr>\n",
       "      <th>count</th>\n",
       "      <td>30000.000000</td>\n",
       "      <td>30000.000000</td>\n",
       "      <td>30000.000000</td>\n",
       "      <td>30000.000000</td>\n",
       "      <td>30000.000000</td>\n",
       "      <td>30000.000000</td>\n",
       "      <td>30000.000000</td>\n",
       "    </tr>\n",
       "    <tr>\n",
       "      <th>mean</th>\n",
       "      <td>328.467827</td>\n",
       "      <td>0.400300</td>\n",
       "      <td>300.965780</td>\n",
       "      <td>53.354560</td>\n",
       "      <td>0.156033</td>\n",
       "      <td>0.588233</td>\n",
       "      <td>1.422487</td>\n",
       "    </tr>\n",
       "    <tr>\n",
       "      <th>std</th>\n",
       "      <td>19.985869</td>\n",
       "      <td>0.489967</td>\n",
       "      <td>10.995419</td>\n",
       "      <td>121.754402</td>\n",
       "      <td>0.362893</td>\n",
       "      <td>0.492162</td>\n",
       "      <td>0.542829</td>\n",
       "    </tr>\n",
       "    <tr>\n",
       "      <th>min</th>\n",
       "      <td>300.000000</td>\n",
       "      <td>0.000000</td>\n",
       "      <td>264.900000</td>\n",
       "      <td>0.000000</td>\n",
       "      <td>0.000000</td>\n",
       "      <td>0.000000</td>\n",
       "      <td>1.000000</td>\n",
       "    </tr>\n",
       "    <tr>\n",
       "      <th>25%</th>\n",
       "      <td>314.200000</td>\n",
       "      <td>0.000000</td>\n",
       "      <td>293.400000</td>\n",
       "      <td>12.000000</td>\n",
       "      <td>0.000000</td>\n",
       "      <td>0.000000</td>\n",
       "      <td>1.050000</td>\n",
       "    </tr>\n",
       "    <tr>\n",
       "      <th>50%</th>\n",
       "      <td>326.200000</td>\n",
       "      <td>0.000000</td>\n",
       "      <td>299.800000</td>\n",
       "      <td>22.800000</td>\n",
       "      <td>0.000000</td>\n",
       "      <td>1.000000</td>\n",
       "      <td>1.200000</td>\n",
       "    </tr>\n",
       "    <tr>\n",
       "      <th>75%</th>\n",
       "      <td>337.200000</td>\n",
       "      <td>1.000000</td>\n",
       "      <td>309.200000</td>\n",
       "      <td>48.800000</td>\n",
       "      <td>0.000000</td>\n",
       "      <td>1.000000</td>\n",
       "      <td>1.600000</td>\n",
       "    </tr>\n",
       "    <tr>\n",
       "      <th>max</th>\n",
       "      <td>503.200000</td>\n",
       "      <td>1.000000</td>\n",
       "      <td>400.100000</td>\n",
       "      <td>3567.700000</td>\n",
       "      <td>1.000000</td>\n",
       "      <td>1.000000</td>\n",
       "      <td>3.400000</td>\n",
       "    </tr>\n",
       "  </tbody>\n",
       "</table>\n",
       "</div>"
      ],
      "text/plain": [
       "         brightness     satellite    bright_t31           frp      daynight  \\\n",
       "count  30000.000000  30000.000000  30000.000000  30000.000000  30000.000000   \n",
       "mean     328.467827      0.400300    300.965780     53.354560      0.156033   \n",
       "std       19.985869      0.489967     10.995419    121.754402      0.362893   \n",
       "min      300.000000      0.000000    264.900000      0.000000      0.000000   \n",
       "25%      314.200000      0.000000    293.400000     12.000000      0.000000   \n",
       "50%      326.200000      0.000000    299.800000     22.800000      0.000000   \n",
       "75%      337.200000      1.000000    309.200000     48.800000      0.000000   \n",
       "max      503.200000      1.000000    400.100000   3567.700000      1.000000   \n",
       "\n",
       "               fire    scan_track  \n",
       "count  30000.000000  30000.000000  \n",
       "mean       0.588233      1.422487  \n",
       "std        0.492162      0.542829  \n",
       "min        0.000000      1.000000  \n",
       "25%        0.000000      1.050000  \n",
       "50%        1.000000      1.200000  \n",
       "75%        1.000000      1.600000  \n",
       "max        1.000000      3.400000  "
      ]
     },
     "execution_count": 241,
     "metadata": {},
     "output_type": "execute_result"
    }
   ],
   "source": [
    "sampdata['scan_track'] = sampdata[['scan', 'track']].mean(axis=1)\n",
    "sampdata=sampdata.drop(columns=['latitude','longitude','confidence','scan', 'track'])\n",
    "sampdata.describe()"
   ]
  },
  {
   "cell_type": "code",
   "execution_count": 242,
   "metadata": {},
   "outputs": [],
   "source": [
    "X=sampdata.iloc[:, [1,2,3,4,5,7]].values\n",
    "y=sampdata.iloc[:, -2].values"
   ]
  },
  {
   "cell_type": "code",
   "execution_count": 244,
   "metadata": {},
   "outputs": [],
   "source": [
    "from sklearn.model_selection import train_test_split\n",
    "X_train, X_test, y_train, y_test = train_test_split(X, y, test_size = 0.2, random_state = 0)"
   ]
  },
  {
   "cell_type": "code",
   "execution_count": 245,
   "metadata": {},
   "outputs": [],
   "source": [
    "from sklearn.preprocessing import StandardScaler\n",
    "sc = StandardScaler()\n",
    "\n",
    "X_train = sc.fit_transform(X_train)\n",
    "X_test = sc.fit_transform(X_test)"
   ]
  },
  {
   "cell_type": "code",
   "execution_count": 246,
   "metadata": {},
   "outputs": [
    {
     "name": "stdout",
     "output_type": "stream",
     "text": [
      "Number transactions X_train dataset:  (24000, 6)\n",
      "Number transactions y_train dataset:  (24000,)\n",
      "Number transactions X_test dataset:  (6000, 6)\n",
      "Number transactions y_test dataset:  (6000,)\n"
     ]
    }
   ],
   "source": [
    "print(\"Number transactions X_train dataset: \", X_train.shape)\n",
    "print(\"Number transactions y_train dataset: \", y_train.shape)\n",
    "print(\"Number transactions X_test dataset: \", X_test.shape)\n",
    "print(\"Number transactions y_test dataset: \", y_test.shape)"
   ]
  },
  {
   "cell_type": "code",
   "execution_count": 247,
   "metadata": {},
   "outputs": [
    {
     "name": "stdout",
     "output_type": "stream",
     "text": [
      "Before OverSampling, counts of label '1': 14118\n",
      "Before OverSampling, counts of label '0': 9882\n"
     ]
    }
   ],
   "source": [
    "print(\"Before OverSampling, counts of label '1': {}\".format(sum(y_train==1)))\n",
    "print(\"Before OverSampling, counts of label '0': {}\".format(sum(y_train==0)))"
   ]
  },
  {
   "cell_type": "code",
   "execution_count": 248,
   "metadata": {},
   "outputs": [],
   "source": [
    "from imblearn.over_sampling import SMOTE\n",
    "sm = SMOTE(random_state=2)\n",
    "X_train_res, y_train_res = sm.fit_sample(X_train, y_train.ravel())"
   ]
  },
  {
   "cell_type": "code",
   "execution_count": 249,
   "metadata": {},
   "outputs": [
    {
     "name": "stdout",
     "output_type": "stream",
     "text": [
      "After OverSampling, the shape of train_X: (28236, 6)\n",
      "After OverSampling, the shape of train_y: (28236,) \n",
      "\n",
      "After OverSampling, counts of label '1': 14118\n",
      "After OverSampling, counts of label '0': 14118\n"
     ]
    }
   ],
   "source": [
    "print('After OverSampling, the shape of train_X: {}'.format(X_train_res.shape))\n",
    "print('After OverSampling, the shape of train_y: {} \\n'.format(y_train_res.shape))\n",
    "print(\"After OverSampling, counts of label '1': {}\".format(sum(y_train_res==1)))\n",
    "print(\"After OverSampling, counts of label '0': {}\".format(sum(y_train_res==0)))"
   ]
  },
  {
   "cell_type": "code",
   "execution_count": 250,
   "metadata": {},
   "outputs": [],
   "source": [
    "from sklearn.ensemble import GradientBoostingClassifier\n",
    "from sklearn.metrics import classification_report, confusion_matrix, roc_curve, auc, f1_score"
   ]
  },
  {
   "cell_type": "code",
   "execution_count": 252,
   "metadata": {
    "scrolled": false
   },
   "outputs": [
    {
     "name": "stdout",
     "output_type": "stream",
     "text": [
      "Learning rate:  0.05\n",
      "Accuracy score (training): 0.868\n",
      "Accuracy score (validation): 0.813\n",
      "F1 score (training): 0.866\n",
      "F1 score (validation): 0.838\n",
      "\n",
      "Learning rate:  0.1\n",
      "Accuracy score (training): 0.875\n",
      "Accuracy score (validation): 0.812\n",
      "F1 score (training): 0.873\n",
      "F1 score (validation): 0.838\n",
      "\n",
      "Learning rate:  0.15000000000000002\n",
      "Accuracy score (training): 0.884\n",
      "Accuracy score (validation): 0.815\n",
      "F1 score (training): 0.882\n",
      "F1 score (validation): 0.838\n",
      "\n",
      "Learning rate:  0.2\n",
      "Accuracy score (training): 0.893\n",
      "Accuracy score (validation): 0.807\n",
      "F1 score (training): 0.891\n",
      "F1 score (validation): 0.829\n",
      "\n",
      "Learning rate:  0.25\n",
      "Accuracy score (training): 0.902\n",
      "Accuracy score (validation): 0.808\n",
      "F1 score (training): 0.901\n",
      "F1 score (validation): 0.831\n",
      "\n",
      "Learning rate:  0.3\n",
      "Accuracy score (training): 0.913\n",
      "Accuracy score (validation): 0.803\n",
      "F1 score (training): 0.912\n",
      "F1 score (validation): 0.825\n",
      "\n",
      "Learning rate:  0.35000000000000003\n",
      "Accuracy score (training): 0.912\n",
      "Accuracy score (validation): 0.784\n",
      "F1 score (training): 0.911\n",
      "F1 score (validation): 0.807\n",
      "\n",
      "Learning rate:  0.4\n",
      "Accuracy score (training): 0.917\n",
      "Accuracy score (validation): 0.764\n",
      "F1 score (training): 0.917\n",
      "F1 score (validation): 0.785\n",
      "\n",
      "Learning rate:  0.45\n",
      "Accuracy score (training): 0.927\n",
      "Accuracy score (validation): 0.782\n",
      "F1 score (training): 0.927\n",
      "F1 score (validation): 0.804\n",
      "\n"
     ]
    }
   ],
   "source": [
    "# learning_rates = [0.05, 0.1, 0.25, 0.5, 0.75, 1]\n",
    "for learning_rate in np.arange(0.05,0.5,0.05):\n",
    "    gb = GradientBoostingClassifier(n_estimators=20, learning_rate = learning_rate, max_features=4, max_depth = 9, random_state = 0)\n",
    "    gb.fit(X_train_res, y_train_res)\n",
    "    y_train_pred = gb.predict(X_train_res)\n",
    "    y_test_pred = gb.predict(X_test)\n",
    "    print(\"Learning rate: \", learning_rate)\n",
    "    print(\"Accuracy score (training): {0:.3f}\".format(gb.score(X_train_res, y_train_res)))\n",
    "    print(\"Accuracy score (validation): {0:.3f}\".format(gb.score(X_test, y_test)))\n",
    "    print(\"F1 score (training): {0:.3f}\".format(f1_score(y_train_res, y_train_pred)))\n",
    "    print(\"F1 score (validation): {0:.3f}\".format(f1_score(y_test, y_test_pred)))\n",
    "    print()"
   ]
  },
  {
   "cell_type": "code",
   "execution_count": null,
   "metadata": {},
   "outputs": [],
   "source": []
  },
  {
   "cell_type": "code",
   "execution_count": 132,
   "metadata": {},
   "outputs": [
    {
     "data": {
      "text/html": [
       "<div>\n",
       "<style scoped>\n",
       "    .dataframe tbody tr th:only-of-type {\n",
       "        vertical-align: middle;\n",
       "    }\n",
       "\n",
       "    .dataframe tbody tr th {\n",
       "        vertical-align: top;\n",
       "    }\n",
       "\n",
       "    .dataframe thead th {\n",
       "        text-align: right;\n",
       "    }\n",
       "</style>\n",
       "<table border=\"1\" class=\"dataframe\">\n",
       "  <thead>\n",
       "    <tr style=\"text-align: right;\">\n",
       "      <th></th>\n",
       "      <th>brightness</th>\n",
       "      <th>scan</th>\n",
       "      <th>track</th>\n",
       "      <th>satellite</th>\n",
       "      <th>bright_t31</th>\n",
       "      <th>frp</th>\n",
       "      <th>daynight</th>\n",
       "    </tr>\n",
       "  </thead>\n",
       "  <tbody>\n",
       "    <tr>\n",
       "      <th>0</th>\n",
       "      <td>0.009483</td>\n",
       "      <td>-0.157360</td>\n",
       "      <td>-0.070276</td>\n",
       "      <td>-0.823104</td>\n",
       "      <td>0.397602</td>\n",
       "      <td>-0.225664</td>\n",
       "      <td>-0.432913</td>\n",
       "    </tr>\n",
       "    <tr>\n",
       "      <th>1</th>\n",
       "      <td>-0.420511</td>\n",
       "      <td>-0.637392</td>\n",
       "      <td>-0.858786</td>\n",
       "      <td>1.214913</td>\n",
       "      <td>-0.277691</td>\n",
       "      <td>-0.367007</td>\n",
       "      <td>-0.432913</td>\n",
       "    </tr>\n",
       "    <tr>\n",
       "      <th>2</th>\n",
       "      <td>-0.474878</td>\n",
       "      <td>0.322671</td>\n",
       "      <td>0.323979</td>\n",
       "      <td>1.214913</td>\n",
       "      <td>0.343579</td>\n",
       "      <td>-0.270792</td>\n",
       "      <td>-0.432913</td>\n",
       "    </tr>\n",
       "    <tr>\n",
       "      <th>3</th>\n",
       "      <td>-0.825794</td>\n",
       "      <td>-0.397376</td>\n",
       "      <td>-0.464531</td>\n",
       "      <td>-0.823104</td>\n",
       "      <td>-0.439761</td>\n",
       "      <td>-0.353384</td>\n",
       "      <td>2.309934</td>\n",
       "    </tr>\n",
       "    <tr>\n",
       "      <th>4</th>\n",
       "      <td>-0.850506</td>\n",
       "      <td>0.562687</td>\n",
       "      <td>0.718234</td>\n",
       "      <td>-0.823104</td>\n",
       "      <td>-0.385738</td>\n",
       "      <td>-0.292078</td>\n",
       "      <td>-0.432913</td>\n",
       "    </tr>\n",
       "  </tbody>\n",
       "</table>\n",
       "</div>"
      ],
      "text/plain": [
       "   brightness      scan     track  satellite  bright_t31       frp  daynight\n",
       "0    0.009483 -0.157360 -0.070276  -0.823104    0.397602 -0.225664 -0.432913\n",
       "1   -0.420511 -0.637392 -0.858786   1.214913   -0.277691 -0.367007 -0.432913\n",
       "2   -0.474878  0.322671  0.323979   1.214913    0.343579 -0.270792 -0.432913\n",
       "3   -0.825794 -0.397376 -0.464531  -0.823104   -0.439761 -0.353384  2.309934\n",
       "4   -0.850506  0.562687  0.718234  -0.823104   -0.385738 -0.292078 -0.432913"
      ]
     },
     "execution_count": 132,
     "metadata": {},
     "output_type": "execute_result"
    }
   ],
   "source": [
    "df=pd.DataFrame(X_train, columns=['brightness', 'scan', 'track', 'satellite', 'bright_t31',\n",
    "       'frp', 'daynight'])\n",
    "df.head()"
   ]
  },
  {
   "cell_type": "code",
   "execution_count": 133,
   "metadata": {},
   "outputs": [
    {
     "data": {
      "text/plain": [
       "<matplotlib.axes._subplots.AxesSubplot at 0x24fba635278>"
      ]
     },
     "execution_count": 133,
     "metadata": {},
     "output_type": "execute_result"
    },
    {
     "data": {
      "image/png": "[encoded data removed]",
      "text/plain": [
       "<matplotlib.figure.Figure at 0x24fba643dd8>"
      ]
     },
     "metadata": {},
     "output_type": "display_data"
    }
   ],
   "source": [
    "sns.heatmap(df.corr(), annot=True)"
   ]
  },
  {
   "cell_type": "code",
   "execution_count": 4,
   "metadata": {},
   "outputs": [
    {
     "ename": "AttributeError",
     "evalue": "module 'clr' has no attribute 'cyclic_learning_rate'",
     "output_type": "error",
     "traceback": [
      "\u001b[1;31m---------------------------------------------------------------------------\u001b[0m",
      "\u001b[1;31mAttributeError\u001b[0m                            Traceback (most recent call last)",
      "\u001b[1;32m<ipython-input-4-3d27856e6318>\u001b[0m in \u001b[0;36m<module>\u001b[1;34m()\u001b[0m\n\u001b[0;32m      3\u001b[0m \u001b[1;33m\u001b[0m\u001b[0m\n\u001b[0;32m      4\u001b[0m \u001b[1;32mfor\u001b[0m \u001b[0mi\u001b[0m \u001b[1;32min\u001b[0m \u001b[0mrange\u001b[0m\u001b[1;33m(\u001b[0m\u001b[1;36m0\u001b[0m\u001b[1;33m,\u001b[0m \u001b[1;36m250\u001b[0m\u001b[1;33m)\u001b[0m\u001b[1;33m:\u001b[0m\u001b[1;33m\u001b[0m\u001b[0m\n\u001b[1;32m----> 5\u001b[1;33m     \u001b[0mx\u001b[0m \u001b[1;33m=\u001b[0m \u001b[0mclr\u001b[0m\u001b[1;33m.\u001b[0m\u001b[0mcyclic_learning_rate\u001b[0m\u001b[1;33m(\u001b[0m\u001b[0mi\u001b[0m\u001b[1;33m,\u001b[0m \u001b[0mmode\u001b[0m\u001b[1;33m=\u001b[0m\u001b[1;34m'exp_range'\u001b[0m\u001b[1;33m,\u001b[0m \u001b[0mgamma\u001b[0m\u001b[1;33m=\u001b[0m\u001b[1;36m.997\u001b[0m\u001b[1;33m)\u001b[0m\u001b[1;33m\u001b[0m\u001b[0m\n\u001b[0m\u001b[0;32m      6\u001b[0m     \u001b[0mrates\u001b[0m\u001b[1;33m.\u001b[0m\u001b[0mappend\u001b[0m\u001b[1;33m(\u001b[0m\u001b[0mx\u001b[0m\u001b[1;33m(\u001b[0m\u001b[1;33m)\u001b[0m\u001b[1;33m)\u001b[0m\u001b[1;33m\u001b[0m\u001b[0m\n\u001b[0;32m      7\u001b[0m \u001b[1;33m\u001b[0m\u001b[0m\n",
      "\u001b[1;31mAttributeError\u001b[0m: module 'clr' has no attribute 'cyclic_learning_rate'"
     ]
    }
   ],
   "source": [
    "import clr\n",
    "rates = []\n",
    "\n",
    "for i in range(0, 250):\n",
    "    x = clr.cyclic_learning_rate(i, mode='exp_range', gamma=.997)\n",
    "    rates.append(x())\n",
    "\n",
    "plt.xlabel('iterations (epochs)')\n",
    "plt.ylabel('learning rate')\n",
    "plt.plot(range(250), rates)"
   ]
  }
 ],
 "metadata": {
  "kernelspec": {
   "display_name": "Python 3",
   "language": "python",
   "name": "python3"
  },
  "language_info": {
   "codemirror_mode": {
    "name": "ipython",
    "version": 3
   },
   "file_extension": ".py",
   "mimetype": "text/x-python",
   "name": "python",
   "nbconvert_exporter": "python",
   "pygments_lexer": "ipython3",
   "version": "3.6.4"
  }
 },
 "nbformat": 4,
 "nbformat_minor": 2
}
